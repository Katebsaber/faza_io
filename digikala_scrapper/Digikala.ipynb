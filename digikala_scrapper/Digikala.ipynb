{
 "cells": [
  {
   "cell_type": "markdown",
   "metadata": {},
   "source": [
    "## Imports"
   ]
  },
  {
   "cell_type": "code",
   "execution_count": 1,
   "metadata": {},
   "outputs": [
    {
     "name": "stdout",
     "output_type": "stream",
     "text": [
      "Requirement already satisfied: beautifulsoup4 in ./env/lib/python3.7/site-packages (from -r requirements.txt (line 1)) (4.8.0)\n",
      "Requirement already satisfied: requests in ./env/lib/python3.7/site-packages (from -r requirements.txt (line 2)) (2.22.0)\n",
      "Collecting redis (from -r requirements.txt (line 3))\n",
      "\u001b[?25l  Downloading https://files.pythonhosted.org/packages/76/05/a412dd430aca607e771a8b5842f47db452efdff395b09a157e56da74acc3/redis-3.3.4-py2.py3-none-any.whl (65kB)\n",
      "\u001b[K    100% |████████████████████████████████| 71kB 209kB/s ta 0:00:01\n",
      "\u001b[?25hRequirement already satisfied: soupsieve>=1.2 in ./env/lib/python3.7/site-packages (from beautifulsoup4->-r requirements.txt (line 1)) (1.9.2)\n",
      "Requirement already satisfied: idna<2.9,>=2.5 in ./env/lib/python3.7/site-packages (from requests->-r requirements.txt (line 2)) (2.8)\n",
      "Requirement already satisfied: chardet<3.1.0,>=3.0.2 in ./env/lib/python3.7/site-packages (from requests->-r requirements.txt (line 2)) (3.0.4)\n",
      "Requirement already satisfied: urllib3!=1.25.0,!=1.25.1,<1.26,>=1.21.1 in ./env/lib/python3.7/site-packages (from requests->-r requirements.txt (line 2)) (1.25.3)\n",
      "Requirement already satisfied: certifi>=2017.4.17 in ./env/lib/python3.7/site-packages (from requests->-r requirements.txt (line 2)) (2019.6.16)\n",
      "Installing collected packages: redis\n",
      "Successfully installed redis-3.3.4\n"
     ]
    }
   ],
   "source": [
    "! pip3 install -r requirements.txt\n",
    "import requests\n",
    "from bs4 import BeautifulSoup\n",
    "from time import sleep\n",
    "import pickle\n",
    "import redis\n",
    "import json"
   ]
  },
  {
   "cell_type": "markdown",
   "metadata": {},
   "source": [
    "## Helper functions"
   ]
  },
  {
   "cell_type": "code",
   "execution_count": 2,
   "metadata": {},
   "outputs": [],
   "source": [
    "def get_pars(link, parser='html.parser'):\n",
    "    page = requests.get(link)\n",
    "    soup = BeautifulSoup(page.content, parser)\n",
    "    return soup\n",
    "\n",
    "def get_sub_categories(soup,selector):\n",
    "    # get sub categories\n",
    "    sub_categories = soup.select(selector)\n",
    "\n",
    "    list_of_subcategories = []\n",
    "    for each_category in sub_categories:\n",
    "        list_of_subcategories.append(['https://www.digikala.com' + each_category.get('href'), each_category.get_text()])\n",
    "#         print('https://www.digikala.com' + each_category.get('href'), each_category.get_text())\n",
    "    return list_of_subcategories\n",
    "\n",
    "def check_url(link):\n",
    "    if not 'digikala.com' in link:\n",
    "        return 'https://digikala.com' + link\n",
    "    else:\n",
    "        return link\n",
    "\n",
    "def get_product_pics(soup):\n",
    "    list_of_product_pic = []\n",
    "    product_images = soup.select('img')\n",
    "    for each in product_images:\n",
    "        if each.get('data-src') != None: \n",
    "            link = each.get('data-src')\n",
    "            link_pos = link.find('?x') \n",
    "            if '.jpg' in link and not link[:link_pos] in list_of_product_pic:\n",
    "                list_of_product_pic.append(link[:link_pos])\n",
    "#                 print(link[:link_pos])\n",
    "\n",
    "def get_similar_products(soup):\n",
    "    similar_products = soup.select(similar_products_selector)\n",
    "    list_of_similar_products = []\n",
    "    for each_similar in similar_products:\n",
    "        link = each_similar.get('href')\n",
    "        if type(link) != type(None) and '/product/' in link and '/users/' not in link and 'twitter' not in link and 'facebook' not in link:\n",
    "            if check_url(link) not in list_of_similar_products:\n",
    "                list_of_similar_products.append(check_url(link))\n",
    "#                 print(check_url(link))\n",
    "    return list_of_similar_products"
   ]
  },
  {
   "cell_type": "markdown",
   "metadata": {},
   "source": [
    "## Page related configs"
   ]
  },
  {
   "cell_type": "code",
   "execution_count": 3,
   "metadata": {},
   "outputs": [],
   "source": [
    "categories_selector = \"body header nav div div ul li ul li div div ul li a\"\n",
    "sub_categories_selector = \"div article div section div ul li a\"\n",
    "product_in_subcategories_selector = \"div div div div div article div ul li div div div div a\"\n",
    "similar_products_selector = 'div div div div a'"
   ]
  },
  {
   "cell_type": "markdown",
   "metadata": {},
   "source": [
    "## DB related config"
   ]
  },
  {
   "cell_type": "code",
   "execution_count": 131,
   "metadata": {},
   "outputs": [],
   "source": [
    "r = redis.Redis(host='localhost', port=6379, db=0)"
   ]
  },
  {
   "cell_type": "markdown",
   "metadata": {},
   "source": [
    "## Main"
   ]
  },
  {
   "cell_type": "code",
   "execution_count": 5,
   "metadata": {},
   "outputs": [
    {
     "data": {
      "text/plain": [
       "425"
      ]
     },
     "execution_count": 5,
     "metadata": {},
     "output_type": "execute_result"
    }
   ],
   "source": [
    "# get categories\n",
    "soup = get_pars(\"https://digikala.com\")\n",
    "categories = soup.select(categories_selector)\n",
    "l =[]\n",
    "list_of_categories = []\n",
    "for each in categories:\n",
    "    if each.get('href') not in l:\n",
    "        l.append(each.get('href'))\n",
    "        list_of_categories.append([each.get('href'),each.get_text().strip()])\n",
    "del l\n",
    "len(list_of_categories)"
   ]
  },
  {
   "cell_type": "code",
   "execution_count": 6,
   "metadata": {},
   "outputs": [],
   "source": [
    "list_of_search_pages =[]\n",
    "for each_category in list_of_categories:\n",
    "    if '/main/' in each_category[0]:\n",
    "        link = check_url(each_category[0])\n",
    "        soup = get_pars(link)\n",
    "        temp_sub = get_sub_categories(soup,sub_categories_selector)\n",
    "        for i in temp_sub:\n",
    "            list_of_search_pages.append(i[0])\n",
    "    elif '/search' in each_category[0]:\n",
    "        link = check_url(each_category[0])\n",
    "        list_of_search_pages.append(link)\n",
    "    else:\n",
    "        print(each_category)"
   ]
  },
  {
   "cell_type": "code",
   "execution_count": 8,
   "metadata": {},
   "outputs": [
    {
     "data": {
      "text/plain": [
       "722"
      ]
     },
     "execution_count": 8,
     "metadata": {},
     "output_type": "execute_result"
    }
   ],
   "source": [
    "len(list_of_search_pages)"
   ]
  },
  {
   "cell_type": "code",
   "execution_count": null,
   "metadata": {},
   "outputs": [],
   "source": [
    "modified_list_of_search_pages = []\n",
    "for each in list_of_search_pages:\n",
    "    for i in range(1,6):\n",
    "        modified_list_of_search_pages.append(each + '?pageno={}&sortby=4'.format(i))\n",
    "list_of_search_pages = modified_list_of_search_pages\n",
    "del modified_list_of_search_pages"
   ]
  },
  {
   "cell_type": "code",
   "execution_count": null,
   "metadata": {},
   "outputs": [],
   "source": [
    "list_of_search_pages"
   ]
  },
  {
   "cell_type": "code",
   "execution_count": null,
   "metadata": {},
   "outputs": [],
   "source": [
    "for each_search_page in list_of_search_pages:\n",
    "    soup = get_pars(each_search_page)\n",
    "    products = soup.select(product_in_subcategories_selector)\n",
    "    list_of_page_products = []\n",
    "    for each_product in products:\n",
    "        list_of_page_products.append(['https://www.digikala.com' + each_product.get('href'),each_product.get_text()])\n",
    "        print('https://www.digikala.com' + each_product.get('href'),each_product.get_text())\n",
    "    sleep(5)"
   ]
  },
  {
   "cell_type": "code",
   "execution_count": 132,
   "metadata": {},
   "outputs": [],
   "source": [
    "with open('data.pkl','rb') as f:\n",
    "    list_of_search_pages = pickle.load(f)"
   ]
  },
  {
   "cell_type": "code",
   "execution_count": 133,
   "metadata": {},
   "outputs": [
    {
     "data": {
      "text/plain": [
       "'https://www.digikala.com/product/dkp-657703/هندزفری-بلوتوثی-هوکار-مدل-sport-rhs6-با-قابلیت-مکالمه'"
      ]
     },
     "execution_count": 133,
     "metadata": {},
     "output_type": "execute_result"
    }
   ],
   "source": [
    "p1 = list_of_search_pages[0][30][0]\n",
    "p1"
   ]
  },
  {
   "cell_type": "code",
   "execution_count": 140,
   "metadata": {},
   "outputs": [],
   "source": [
    "for each_category in list_of_search_pages:\n",
    "    for each_product in each_category:\n",
    "        if type(r.get(each_product[0])) == type(None):\n",
    "            r.set(each_product[0], json.dumps([each_product[1],get_similar_products(get_pars(each_product[0]))]))\n",
    "            print(each_product)\n",
    "            sleep(5)"
   ]
  },
  {
   "cell_type": "code",
   "execution_count": null,
   "metadata": {},
   "outputs": [],
   "source": [
    "r.get('https://www.digikala.com/product/dkp-310914/هندزفری-مدل-eo-ig955')"
   ]
  },
  {
   "cell_type": "code",
   "execution_count": 118,
   "metadata": {},
   "outputs": [
    {
     "data": {
      "text/plain": [
       "True"
      ]
     },
     "execution_count": 118,
     "metadata": {},
     "output_type": "execute_result"
    }
   ],
   "source": [
    "r.set('foo', 'bar')"
   ]
  },
  {
   "cell_type": "code",
   "execution_count": 119,
   "metadata": {},
   "outputs": [
    {
     "data": {
      "text/plain": [
       "True"
      ]
     },
     "execution_count": 119,
     "metadata": {},
     "output_type": "execute_result"
    }
   ],
   "source": [
    "r.set('foo', 'bar2')"
   ]
  },
  {
   "cell_type": "code",
   "execution_count": 120,
   "metadata": {},
   "outputs": [
    {
     "data": {
      "text/plain": [
       "b'bar2'"
      ]
     },
     "execution_count": 120,
     "metadata": {},
     "output_type": "execute_result"
    }
   ],
   "source": [
    "r.get('foo')"
   ]
  },
  {
   "cell_type": "code",
   "execution_count": 102,
   "metadata": {},
   "outputs": [
    {
     "data": {
      "text/plain": [
       "1"
      ]
     },
     "execution_count": 102,
     "metadata": {},
     "output_type": "execute_result"
    }
   ],
   "source": [
    "r.delete('foo')"
   ]
  },
  {
   "cell_type": "code",
   "execution_count": 103,
   "metadata": {},
   "outputs": [
    {
     "data": {
      "text/plain": [
       "NoneType"
      ]
     },
     "execution_count": 103,
     "metadata": {},
     "output_type": "execute_result"
    }
   ],
   "source": [
    "type(r.get('foo'))"
   ]
  },
  {
   "cell_type": "code",
   "execution_count": 109,
   "metadata": {},
   "outputs": [],
   "source": [
    "a = [1,[2,3,4,5,6,7]]\n"
   ]
  },
  {
   "cell_type": "code",
   "execution_count": 108,
   "metadata": {},
   "outputs": [],
   "source": []
  },
  {
   "cell_type": "code",
   "execution_count": 111,
   "metadata": {},
   "outputs": [
    {
     "data": {
      "text/plain": [
       "str"
      ]
     },
     "execution_count": 111,
     "metadata": {},
     "output_type": "execute_result"
    }
   ],
   "source": [
    "type(json.dumps(a))"
   ]
  },
  {
   "cell_type": "code",
   "execution_count": 124,
   "metadata": {},
   "outputs": [
    {
     "data": {
      "text/plain": [
       "True"
      ]
     },
     "execution_count": 124,
     "metadata": {},
     "output_type": "execute_result"
    }
   ],
   "source": [
    "r.flushdb()"
   ]
  },
  {
   "cell_type": "code",
   "execution_count": null,
   "metadata": {},
   "outputs": [],
   "source": []
  }
 ],
 "metadata": {
  "kernelspec": {
   "display_name": "Python 3",
   "language": "python",
   "name": "python3"
  },
  "language_info": {
   "codemirror_mode": {
    "name": "ipython",
    "version": 3
   },
   "file_extension": ".py",
   "mimetype": "text/x-python",
   "name": "python",
   "nbconvert_exporter": "python",
   "pygments_lexer": "ipython3",
   "version": "3.7.3"
  }
 },
 "nbformat": 4,
 "nbformat_minor": 2
}
